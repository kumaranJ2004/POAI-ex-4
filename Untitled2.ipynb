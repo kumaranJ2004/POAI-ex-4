{
  "nbformat": 4,
  "nbformat_minor": 0,
  "metadata": {
    "colab": {
      "provenance": [],
      "authorship_tag": "ABX9TyNmxvHKvUd6kRzL4orodeas",
      "include_colab_link": true
    },
    "kernelspec": {
      "name": "python3",
      "display_name": "Python 3"
    },
    "language_info": {
      "name": "python"
    }
  },
  "cells": [
    {
      "cell_type": "markdown",
      "metadata": {
        "id": "view-in-github",
        "colab_type": "text"
      },
      "source": [
        "<a href=\"https://colab.research.google.com/github/kumaranJ2004/POAI-ex-4/blob/main/Untitled2.ipynb\" target=\"_parent\"><img src=\"https://colab.research.google.com/assets/colab-badge.svg\" alt=\"Open In Colab\"/></a>"
      ]
    },
    {
      "cell_type": "code",
      "execution_count": 1,
      "metadata": {
        "colab": {
          "base_uri": "https://localhost:8080/"
        },
        "id": "oueHnI8On9rV",
        "outputId": "743c4e28-2b0a-4256-8fe3-78f810754311"
      },
      "outputs": [
        {
          "output_type": "stream",
          "name": "stdout",
          "text": [
            "Path found:\n",
            "[(0, 0), (1, 0), (2, 0), (2, 1), (2, 2), (3, 2), (4, 2), (4, 3), (4, 4)]\n"
          ]
        }
      ],
      "source": [
        "import heapq\n",
        "\n",
        "def heuristic(a, b):\n",
        "    # Manhattan distance\n",
        "    return abs(a[0] - b[0]) + abs(a[1] - b[1])\n",
        "\n",
        "def astar(grid, start, goal):\n",
        "    rows, cols = len(grid), len(grid[0])\n",
        "    open_set = []\n",
        "    heapq.heappush(open_set, (0 + heuristic(start, goal), 0, start, [start]))\n",
        "    visited = set()\n",
        "\n",
        "    while open_set:\n",
        "        f, g, current, path = heapq.heappop(open_set)\n",
        "\n",
        "        if current == goal:\n",
        "            return path\n",
        "\n",
        "        if current in visited:\n",
        "            continue\n",
        "        visited.add(current)\n",
        "\n",
        "        for dx, dy in [(-1,0), (1,0), (0,-1), (0,1)]:  # 4 directions\n",
        "            x, y = current[0] + dx, current[1] + dy\n",
        "\n",
        "            if 0 <= x < rows and 0 <= y < cols and grid[x][y] == 0:\n",
        "                neighbor = (x, y)\n",
        "                if neighbor not in visited:\n",
        "                    new_g = g + 1\n",
        "                    f = new_g + heuristic(neighbor, goal)\n",
        "                    heapq.heappush(open_set, (f, new_g, neighbor, path + [neighbor]))\n",
        "\n",
        "    return None  # No path found\n",
        "\n",
        "# Example grid (5x5)\n",
        "grid = [\n",
        "    [0, 1, 0, 0, 0],\n",
        "    [0, 1, 0, 1, 0],\n",
        "    [0, 0, 0, 1, 0],\n",
        "    [1, 1, 0, 1, 0],\n",
        "    [0, 0, 0, 0, 0]\n",
        "]\n",
        "\n",
        "start = (0, 0)\n",
        "goal = (4, 4)\n",
        "\n",
        "path = astar(grid, start, goal)\n",
        "\n",
        "print(\"Path found:\" if path else \"No path found\")\n",
        "print(path)\n"
      ]
    }
  ]
}